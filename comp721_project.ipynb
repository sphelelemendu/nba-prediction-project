{
 "cells": [
  {
   "cell_type": "markdown",
   "metadata": {
    "id": "9lmIptaLNil_"
   },
   "source": [
    "import libraries"
   ]
  },
  {
   "cell_type": "markdown",
   "metadata": {
    "id": "7vGg6hirNwQ8"
   },
   "source": [
    "Load Data"
   ]
  },
  {
   "cell_type": "code",
   "execution_count": null,
   "metadata": {
    "id": "qymkRtRcNmcg"
   },
   "outputs": [],
   "source": [
    "import pandas as pd\n",
    "import matplotlib as plt\n",
    "import numpy as np\n",
    "from sklearn import svm\n",
    "from sklearn import metrics\n",
    "from sklearn.svm import LinearSVC\n",
    "from sklearn.neighbors import KNeighborsClassifier\n",
    "from sklearn.model_selection import train_test_split\n",
    "from sklearn.model_selection import cross_val_score\n",
    "from sklearn import preprocessing\n",
    "from sklearn.feature_selection import RFE\n",
    "from sklearn.ensemble import RandomForestClassifier\n",
    "from sklearn.ensemble import GradientBoostingClassifier\n",
    "import graphviz\n",
    "from sklearn import tree"
   ]
  },
  {
   "cell_type": "code",
   "execution_count": null,
   "metadata": {
    "id": "48j3ZLadN1Vb"
   },
   "outputs": [],
   "source": [
    "# players dataset 2004 - 2005 season\n",
    "df_p = pd.read_csv('/content/drive/MyDrive/NBA_dataset (1)/player_regular_season.csv') \n",
    "df_players = df_p[(df_p.year == 2004)]\n",
    "\n",
    "# teams dataset 2004 - 2005 season\n",
    "df_t = pd.read_csv('/content/drive/MyDrive/NBA_dataset (1)/team_season.csv')\n",
    "df_teams = df_t[((df_t.year > 1989) & (df_t.year < 2004))]\n",
    "df_season2004 = df_t[((df_t.year > 2003))]\n",
    "teams = df_season2004['team']"
   ]
  },
  {
   "cell_type": "markdown",
   "metadata": {
    "id": "Frg25aEjPzbE"
   },
   "source": [
    "Players in the season 2004 - 2005 season"
   ]
  },
  {
   "cell_type": "code",
   "execution_count": null,
   "metadata": {
    "id": "QBseyaLOP3ej"
   },
   "outputs": [],
   "source": [
    "# show the head of this dataset\n",
    "df_players.head()"
   ]
  },
  {
   "cell_type": "markdown",
   "metadata": {
    "id": "WtV3-Tq_QnKx"
   },
   "source": [
    "Teams in the 2004-2005 season"
   ]
  },
  {
   "cell_type": "code",
   "execution_count": null,
   "metadata": {
    "id": "TMRzpfBgQ0UM"
   },
   "outputs": [],
   "source": [
    "df_teams.head()"
   ]
  },
  {
   "cell_type": "code",
   "execution_count": null,
   "metadata": {
    "colab": {
     "base_uri": "https://localhost:8080/",
     "height": 222
    },
    "id": "dITUYRvov-Is",
    "outputId": "d7838631-b684-4b69-e28c-39e2fa6e1439"
   },
   "outputs": [
    {
     "data": {
      "text/html": [
       "<div>\n",
       "<style scoped>\n",
       "    .dataframe tbody tr th:only-of-type {\n",
       "        vertical-align: middle;\n",
       "    }\n",
       "\n",
       "    .dataframe tbody tr th {\n",
       "        vertical-align: top;\n",
       "    }\n",
       "\n",
       "    .dataframe thead th {\n",
       "        text-align: right;\n",
       "    }\n",
       "</style>\n",
       "<table border=\"1\" class=\"dataframe\">\n",
       "  <thead>\n",
       "    <tr style=\"text-align: right;\">\n",
       "      <th></th>\n",
       "      <th>team</th>\n",
       "      <th>year</th>\n",
       "      <th>leag</th>\n",
       "      <th>o_fgm</th>\n",
       "      <th>o_fga</th>\n",
       "      <th>o_ftm</th>\n",
       "      <th>o_fta</th>\n",
       "      <th>o_oreb</th>\n",
       "      <th>o_dreb</th>\n",
       "      <th>o_reb</th>\n",
       "      <th>o_asts</th>\n",
       "      <th>o_pf</th>\n",
       "      <th>o_stl</th>\n",
       "      <th>o_to</th>\n",
       "      <th>o_blk</th>\n",
       "      <th>o_3pm</th>\n",
       "      <th>o_3pa</th>\n",
       "      <th>o_pts</th>\n",
       "      <th>d_fgm</th>\n",
       "      <th>d_fga</th>\n",
       "      <th>d_ftm</th>\n",
       "      <th>d_fta</th>\n",
       "      <th>d_oreb</th>\n",
       "      <th>d_dreb</th>\n",
       "      <th>d_reb</th>\n",
       "      <th>d_asts</th>\n",
       "      <th>d_pf</th>\n",
       "      <th>d_stl</th>\n",
       "      <th>d_to</th>\n",
       "      <th>d_blk</th>\n",
       "      <th>d_3pm</th>\n",
       "      <th>d_3pa</th>\n",
       "      <th>d_pts</th>\n",
       "      <th>pace</th>\n",
       "      <th>won</th>\n",
       "      <th>lost</th>\n",
       "    </tr>\n",
       "  </thead>\n",
       "  <tbody>\n",
       "    <tr>\n",
       "      <th>1152</th>\n",
       "      <td>SAS</td>\n",
       "      <td>2003</td>\n",
       "      <td>N</td>\n",
       "      <td>2842</td>\n",
       "      <td>6434</td>\n",
       "      <td>1409</td>\n",
       "      <td>2069</td>\n",
       "      <td>1028</td>\n",
       "      <td>2669</td>\n",
       "      <td>3697</td>\n",
       "      <td>1676</td>\n",
       "      <td>1667</td>\n",
       "      <td>661</td>\n",
       "      <td>1155</td>\n",
       "      <td>537</td>\n",
       "      <td>408</td>\n",
       "      <td>1140</td>\n",
       "      <td>7501</td>\n",
       "      <td>2613</td>\n",
       "      <td>6388</td>\n",
       "      <td>1372</td>\n",
       "      <td>1844</td>\n",
       "      <td>909</td>\n",
       "      <td>2459</td>\n",
       "      <td>3368</td>\n",
       "      <td>1419</td>\n",
       "      <td>1837</td>\n",
       "      <td>635</td>\n",
       "      <td>1194</td>\n",
       "      <td>381</td>\n",
       "      <td>311</td>\n",
       "      <td>951</td>\n",
       "      <td>6909</td>\n",
       "      <td>90.400002</td>\n",
       "      <td>57</td>\n",
       "      <td>25</td>\n",
       "    </tr>\n",
       "    <tr>\n",
       "      <th>1153</th>\n",
       "      <td>SEA</td>\n",
       "      <td>2003</td>\n",
       "      <td>N</td>\n",
       "      <td>2939</td>\n",
       "      <td>6590</td>\n",
       "      <td>1363</td>\n",
       "      <td>1782</td>\n",
       "      <td>907</td>\n",
       "      <td>2318</td>\n",
       "      <td>3225</td>\n",
       "      <td>1782</td>\n",
       "      <td>1783</td>\n",
       "      <td>661</td>\n",
       "      <td>1128</td>\n",
       "      <td>387</td>\n",
       "      <td>723</td>\n",
       "      <td>1936</td>\n",
       "      <td>7964</td>\n",
       "      <td>2980</td>\n",
       "      <td>6622</td>\n",
       "      <td>1570</td>\n",
       "      <td>2028</td>\n",
       "      <td>1068</td>\n",
       "      <td>2430</td>\n",
       "      <td>3498</td>\n",
       "      <td>1728</td>\n",
       "      <td>1658</td>\n",
       "      <td>629</td>\n",
       "      <td>1158</td>\n",
       "      <td>386</td>\n",
       "      <td>486</td>\n",
       "      <td>1394</td>\n",
       "      <td>8016</td>\n",
       "      <td>91.800003</td>\n",
       "      <td>37</td>\n",
       "      <td>45</td>\n",
       "    </tr>\n",
       "    <tr>\n",
       "      <th>1154</th>\n",
       "      <td>TOR</td>\n",
       "      <td>2003</td>\n",
       "      <td>N</td>\n",
       "      <td>2654</td>\n",
       "      <td>6348</td>\n",
       "      <td>1237</td>\n",
       "      <td>1650</td>\n",
       "      <td>830</td>\n",
       "      <td>2419</td>\n",
       "      <td>3249</td>\n",
       "      <td>1574</td>\n",
       "      <td>1748</td>\n",
       "      <td>604</td>\n",
       "      <td>1090</td>\n",
       "      <td>401</td>\n",
       "      <td>461</td>\n",
       "      <td>1294</td>\n",
       "      <td>7006</td>\n",
       "      <td>2722</td>\n",
       "      <td>6365</td>\n",
       "      <td>1536</td>\n",
       "      <td>2055</td>\n",
       "      <td>1034</td>\n",
       "      <td>2662</td>\n",
       "      <td>3696</td>\n",
       "      <td>1518</td>\n",
       "      <td>1619</td>\n",
       "      <td>590</td>\n",
       "      <td>1137</td>\n",
       "      <td>333</td>\n",
       "      <td>273</td>\n",
       "      <td>889</td>\n",
       "      <td>7253</td>\n",
       "      <td>88.800003</td>\n",
       "      <td>33</td>\n",
       "      <td>49</td>\n",
       "    </tr>\n",
       "    <tr>\n",
       "      <th>1155</th>\n",
       "      <td>UTA</td>\n",
       "      <td>2003</td>\n",
       "      <td>N</td>\n",
       "      <td>2690</td>\n",
       "      <td>6171</td>\n",
       "      <td>1639</td>\n",
       "      <td>2197</td>\n",
       "      <td>1103</td>\n",
       "      <td>2272</td>\n",
       "      <td>3375</td>\n",
       "      <td>1671</td>\n",
       "      <td>2095</td>\n",
       "      <td>583</td>\n",
       "      <td>1255</td>\n",
       "      <td>494</td>\n",
       "      <td>252</td>\n",
       "      <td>786</td>\n",
       "      <td>7271</td>\n",
       "      <td>2541</td>\n",
       "      <td>5879</td>\n",
       "      <td>1874</td>\n",
       "      <td>2431</td>\n",
       "      <td>868</td>\n",
       "      <td>2131</td>\n",
       "      <td>2999</td>\n",
       "      <td>1528</td>\n",
       "      <td>1999</td>\n",
       "      <td>666</td>\n",
       "      <td>1216</td>\n",
       "      <td>530</td>\n",
       "      <td>415</td>\n",
       "      <td>1209</td>\n",
       "      <td>7371</td>\n",
       "      <td>88.099998</td>\n",
       "      <td>42</td>\n",
       "      <td>40</td>\n",
       "    </tr>\n",
       "    <tr>\n",
       "      <th>1156</th>\n",
       "      <td>WAS</td>\n",
       "      <td>2003</td>\n",
       "      <td>N</td>\n",
       "      <td>2758</td>\n",
       "      <td>6556</td>\n",
       "      <td>1579</td>\n",
       "      <td>2211</td>\n",
       "      <td>1115</td>\n",
       "      <td>2392</td>\n",
       "      <td>3507</td>\n",
       "      <td>1537</td>\n",
       "      <td>1712</td>\n",
       "      <td>733</td>\n",
       "      <td>1371</td>\n",
       "      <td>406</td>\n",
       "      <td>433</td>\n",
       "      <td>1269</td>\n",
       "      <td>7528</td>\n",
       "      <td>3061</td>\n",
       "      <td>6741</td>\n",
       "      <td>1444</td>\n",
       "      <td>1874</td>\n",
       "      <td>1048</td>\n",
       "      <td>2520</td>\n",
       "      <td>3568</td>\n",
       "      <td>1966</td>\n",
       "      <td>1783</td>\n",
       "      <td>787</td>\n",
       "      <td>1269</td>\n",
       "      <td>446</td>\n",
       "      <td>424</td>\n",
       "      <td>1238</td>\n",
       "      <td>7990</td>\n",
       "      <td>94.099998</td>\n",
       "      <td>25</td>\n",
       "      <td>57</td>\n",
       "    </tr>\n",
       "  </tbody>\n",
       "</table>\n",
       "</div>"
      ],
      "text/plain": [
       "     team  year leag  o_fgm  o_fga  ...  d_3pa  d_pts       pace  won  lost\n",
       "1152  SAS  2003    N   2842   6434  ...    951   6909  90.400002   57    25\n",
       "1153  SEA  2003    N   2939   6590  ...   1394   8016  91.800003   37    45\n",
       "1154  TOR  2003    N   2654   6348  ...    889   7253  88.800003   33    49\n",
       "1155  UTA  2003    N   2690   6171  ...   1209   7371  88.099998   42    40\n",
       "1156  WAS  2003    N   2758   6556  ...   1238   7990  94.099998   25    57\n",
       "\n",
       "[5 rows x 36 columns]"
      ]
     },
     "execution_count": 5,
     "metadata": {},
     "output_type": "execute_result"
    }
   ],
   "source": [
    "df_teams.tail()"
   ]
  },
  {
   "cell_type": "markdown",
   "metadata": {
    "id": "pVKv50tyiJmR"
   },
   "source": [
    "Compare won vs lost"
   ]
  },
  {
   "cell_type": "code",
   "execution_count": null,
   "metadata": {
    "id": "gzuPKiEHiUdR"
   },
   "outputs": [],
   "source": [
    "# Create a column from comparing the wins vs losses\n",
    "# 0 - if wins = loss\n",
    "# 1 - if wins < loss\n",
    "# 2 - if wins > loss\n",
    "val = -1\n",
    "def compare(row):\n",
    "    if row['won'] < row['lost']:\n",
    "        val = 1\n",
    "    \n",
    "    elif row['won'] > row['lost']:\n",
    "        val =  2\n",
    "\n",
    "    else:\n",
    "        val = 0\n",
    "\n",
    "    return val\n"
   ]
  },
  {
   "cell_type": "markdown",
   "metadata": {
    "id": "0TvQT3d6jkZj"
   },
   "source": [
    "Apply the changes to the dataset"
   ]
  },
  {
   "cell_type": "code",
   "execution_count": null,
   "metadata": {
    "id": "SiLMHVOujnea"
   },
   "outputs": [],
   "source": [
    "df_teams['teamRes'] = df_teams.apply(compare, axis=1)\n"
   ]
  },
  {
   "cell_type": "code",
   "execution_count": null,
   "metadata": {
    "colab": {
     "base_uri": "https://localhost:8080/",
     "height": 222
    },
    "id": "p_-NSdHhkiTO",
    "outputId": "17193664-85a3-4df1-d630-a18cc787c037"
   },
   "outputs": [
    {
     "data": {
      "text/html": [
       "<div>\n",
       "<style scoped>\n",
       "    .dataframe tbody tr th:only-of-type {\n",
       "        vertical-align: middle;\n",
       "    }\n",
       "\n",
       "    .dataframe tbody tr th {\n",
       "        vertical-align: top;\n",
       "    }\n",
       "\n",
       "    .dataframe thead th {\n",
       "        text-align: right;\n",
       "    }\n",
       "</style>\n",
       "<table border=\"1\" class=\"dataframe\">\n",
       "  <thead>\n",
       "    <tr style=\"text-align: right;\">\n",
       "      <th></th>\n",
       "      <th>team</th>\n",
       "      <th>year</th>\n",
       "      <th>leag</th>\n",
       "      <th>o_fgm</th>\n",
       "      <th>o_fga</th>\n",
       "      <th>o_ftm</th>\n",
       "      <th>o_fta</th>\n",
       "      <th>o_oreb</th>\n",
       "      <th>o_dreb</th>\n",
       "      <th>o_reb</th>\n",
       "      <th>o_asts</th>\n",
       "      <th>o_pf</th>\n",
       "      <th>o_stl</th>\n",
       "      <th>o_to</th>\n",
       "      <th>o_blk</th>\n",
       "      <th>o_3pm</th>\n",
       "      <th>o_3pa</th>\n",
       "      <th>o_pts</th>\n",
       "      <th>d_fgm</th>\n",
       "      <th>d_fga</th>\n",
       "      <th>d_ftm</th>\n",
       "      <th>d_fta</th>\n",
       "      <th>d_oreb</th>\n",
       "      <th>d_dreb</th>\n",
       "      <th>d_reb</th>\n",
       "      <th>d_asts</th>\n",
       "      <th>d_pf</th>\n",
       "      <th>d_stl</th>\n",
       "      <th>d_to</th>\n",
       "      <th>d_blk</th>\n",
       "      <th>d_3pm</th>\n",
       "      <th>d_3pa</th>\n",
       "      <th>d_pts</th>\n",
       "      <th>pace</th>\n",
       "      <th>won</th>\n",
       "      <th>lost</th>\n",
       "      <th>teamRes</th>\n",
       "    </tr>\n",
       "  </thead>\n",
       "  <tbody>\n",
       "    <tr>\n",
       "      <th>761</th>\n",
       "      <td>ATL</td>\n",
       "      <td>1990</td>\n",
       "      <td>N</td>\n",
       "      <td>3349</td>\n",
       "      <td>7223</td>\n",
       "      <td>2034</td>\n",
       "      <td>2544</td>\n",
       "      <td>1235</td>\n",
       "      <td>2420</td>\n",
       "      <td>3655</td>\n",
       "      <td>1864</td>\n",
       "      <td>1768</td>\n",
       "      <td>729</td>\n",
       "      <td>1231</td>\n",
       "      <td>374</td>\n",
       "      <td>271</td>\n",
       "      <td>0</td>\n",
       "      <td>9003</td>\n",
       "      <td>3568</td>\n",
       "      <td>7219</td>\n",
       "      <td>1587</td>\n",
       "      <td>2069</td>\n",
       "      <td>1080</td>\n",
       "      <td>2499</td>\n",
       "      <td>3579</td>\n",
       "      <td>2320</td>\n",
       "      <td>2034</td>\n",
       "      <td>688</td>\n",
       "      <td>1291</td>\n",
       "      <td>361</td>\n",
       "      <td>217</td>\n",
       "      <td>0</td>\n",
       "      <td>8940</td>\n",
       "      <td>100.802790</td>\n",
       "      <td>43</td>\n",
       "      <td>39</td>\n",
       "      <td>2</td>\n",
       "    </tr>\n",
       "    <tr>\n",
       "      <th>762</th>\n",
       "      <td>BOS</td>\n",
       "      <td>1990</td>\n",
       "      <td>N</td>\n",
       "      <td>3695</td>\n",
       "      <td>7214</td>\n",
       "      <td>1646</td>\n",
       "      <td>1997</td>\n",
       "      <td>1088</td>\n",
       "      <td>2697</td>\n",
       "      <td>3785</td>\n",
       "      <td>2160</td>\n",
       "      <td>1695</td>\n",
       "      <td>672</td>\n",
       "      <td>1320</td>\n",
       "      <td>565</td>\n",
       "      <td>109</td>\n",
       "      <td>0</td>\n",
       "      <td>9145</td>\n",
       "      <td>3419</td>\n",
       "      <td>7559</td>\n",
       "      <td>1639</td>\n",
       "      <td>2084</td>\n",
       "      <td>1192</td>\n",
       "      <td>2204</td>\n",
       "      <td>3396</td>\n",
       "      <td>2052</td>\n",
       "      <td>1660</td>\n",
       "      <td>738</td>\n",
       "      <td>1127</td>\n",
       "      <td>381</td>\n",
       "      <td>191</td>\n",
       "      <td>0</td>\n",
       "      <td>8668</td>\n",
       "      <td>101.146800</td>\n",
       "      <td>56</td>\n",
       "      <td>26</td>\n",
       "      <td>2</td>\n",
       "    </tr>\n",
       "    <tr>\n",
       "      <th>763</th>\n",
       "      <td>CHA</td>\n",
       "      <td>1990</td>\n",
       "      <td>N</td>\n",
       "      <td>3286</td>\n",
       "      <td>7033</td>\n",
       "      <td>1725</td>\n",
       "      <td>2214</td>\n",
       "      <td>1027</td>\n",
       "      <td>2200</td>\n",
       "      <td>3227</td>\n",
       "      <td>2019</td>\n",
       "      <td>1946</td>\n",
       "      <td>759</td>\n",
       "      <td>1290</td>\n",
       "      <td>304</td>\n",
       "      <td>131</td>\n",
       "      <td>0</td>\n",
       "      <td>8428</td>\n",
       "      <td>3408</td>\n",
       "      <td>6915</td>\n",
       "      <td>1884</td>\n",
       "      <td>2441</td>\n",
       "      <td>1151</td>\n",
       "      <td>2504</td>\n",
       "      <td>3665</td>\n",
       "      <td>2144</td>\n",
       "      <td>1841</td>\n",
       "      <td>675</td>\n",
       "      <td>1406</td>\n",
       "      <td>480</td>\n",
       "      <td>158</td>\n",
       "      <td>0</td>\n",
       "      <td>8858</td>\n",
       "      <td>99.808464</td>\n",
       "      <td>26</td>\n",
       "      <td>56</td>\n",
       "      <td>1</td>\n",
       "    </tr>\n",
       "    <tr>\n",
       "      <th>764</th>\n",
       "      <td>CHI</td>\n",
       "      <td>1990</td>\n",
       "      <td>N</td>\n",
       "      <td>3632</td>\n",
       "      <td>7125</td>\n",
       "      <td>1605</td>\n",
       "      <td>2111</td>\n",
       "      <td>1148</td>\n",
       "      <td>2342</td>\n",
       "      <td>3490</td>\n",
       "      <td>2212</td>\n",
       "      <td>1751</td>\n",
       "      <td>822</td>\n",
       "      <td>1184</td>\n",
       "      <td>438</td>\n",
       "      <td>155</td>\n",
       "      <td>0</td>\n",
       "      <td>9024</td>\n",
       "      <td>3267</td>\n",
       "      <td>6884</td>\n",
       "      <td>1554</td>\n",
       "      <td>2017</td>\n",
       "      <td>1062</td>\n",
       "      <td>2162</td>\n",
       "      <td>3224</td>\n",
       "      <td>2016</td>\n",
       "      <td>1826</td>\n",
       "      <td>633</td>\n",
       "      <td>1402</td>\n",
       "      <td>348</td>\n",
       "      <td>190</td>\n",
       "      <td>0</td>\n",
       "      <td>8278</td>\n",
       "      <td>97.917480</td>\n",
       "      <td>61</td>\n",
       "      <td>21</td>\n",
       "      <td>2</td>\n",
       "    </tr>\n",
       "    <tr>\n",
       "      <th>765</th>\n",
       "      <td>CLE</td>\n",
       "      <td>1990</td>\n",
       "      <td>N</td>\n",
       "      <td>3259</td>\n",
       "      <td>6857</td>\n",
       "      <td>1665</td>\n",
       "      <td>2176</td>\n",
       "      <td>1011</td>\n",
       "      <td>2329</td>\n",
       "      <td>3340</td>\n",
       "      <td>2240</td>\n",
       "      <td>1672</td>\n",
       "      <td>643</td>\n",
       "      <td>1281</td>\n",
       "      <td>450</td>\n",
       "      <td>160</td>\n",
       "      <td>0</td>\n",
       "      <td>8343</td>\n",
       "      <td>3459</td>\n",
       "      <td>7117</td>\n",
       "      <td>1464</td>\n",
       "      <td>1916</td>\n",
       "      <td>1097</td>\n",
       "      <td>2398</td>\n",
       "      <td>3495</td>\n",
       "      <td>2150</td>\n",
       "      <td>1895</td>\n",
       "      <td>710</td>\n",
       "      <td>1226</td>\n",
       "      <td>394</td>\n",
       "      <td>163</td>\n",
       "      <td>0</td>\n",
       "      <td>8545</td>\n",
       "      <td>97.749222</td>\n",
       "      <td>33</td>\n",
       "      <td>49</td>\n",
       "      <td>1</td>\n",
       "    </tr>\n",
       "  </tbody>\n",
       "</table>\n",
       "</div>"
      ],
      "text/plain": [
       "    team  year leag  o_fgm  o_fga  ...  d_pts        pace  won  lost  teamRes\n",
       "761  ATL  1990    N   3349   7223  ...   8940  100.802790   43    39        2\n",
       "762  BOS  1990    N   3695   7214  ...   8668  101.146800   56    26        2\n",
       "763  CHA  1990    N   3286   7033  ...   8858   99.808464   26    56        1\n",
       "764  CHI  1990    N   3632   7125  ...   8278   97.917480   61    21        2\n",
       "765  CLE  1990    N   3259   6857  ...   8545   97.749222   33    49        1\n",
       "\n",
       "[5 rows x 37 columns]"
      ]
     },
     "execution_count": 8,
     "metadata": {},
     "output_type": "execute_result"
    }
   ],
   "source": [
    "df_teams.head()"
   ]
  },
  {
   "cell_type": "markdown",
   "metadata": {
    "id": "QTN3r0a_Sd9D"
   },
   "source": [
    "prepare x and y"
   ]
  },
  {
   "cell_type": "code",
   "execution_count": null,
   "metadata": {
    "id": "U43ppYq4ShTk"
   },
   "outputs": [],
   "source": [
    "# o_fgm\to_fga\to_ftm\to_fta\t\n",
    "#o_oreb\to_dreb\to_reb\to_asts\t\n",
    "#o_pf\to_stl\to_to\to_blk\t\n",
    "#o_3pm\to_3pa\to_pts\td_fgm\t\n",
    "#d_fga\td_ftm\td_fta\td_oreb\t\n",
    "#d_dreb\td_reb\td_asts\td_pf\t\n",
    "#d_stl\td_to\td_blk\td_3pm\td_3pa\td_pts\tpace\twon\tlost\n",
    "feature_cols = ['o_fgm', 'o_fga', 'o_ftm', 'o_fta', 'o_oreb', 'o_dreb', \n",
    "                'o_reb', 'o_asts', 'o_pf', 'o_stl', 'o_to', 'o_blk', 'o_3pm',\n",
    "                'o_3pa', 'o_pts', 'd_fgm', 'd_fga', 'd_ftm', 'd_fta', 'd_oreb',\n",
    "                'd_dreb', 'd_reb', 'd_asts', 'd_pf', 'd_stl', 'd_to', 'd_blk',\n",
    "                'd_3pm', 'd_3pa', 'd_pts']\n",
    "\n",
    "x = df_teams[feature_cols]\n",
    "y = df_teams['teamRes']\n",
    "            "
   ]
  },
  {
   "cell_type": "code",
   "execution_count": null,
   "metadata": {
    "colab": {
     "base_uri": "https://localhost:8080/",
     "height": 222
    },
    "id": "aZ0qIxkDlRVt",
    "outputId": "d1d709c5-3077-4930-b2c7-63373b781d7f"
   },
   "outputs": [
    {
     "data": {
      "text/html": [
       "<div>\n",
       "<style scoped>\n",
       "    .dataframe tbody tr th:only-of-type {\n",
       "        vertical-align: middle;\n",
       "    }\n",
       "\n",
       "    .dataframe tbody tr th {\n",
       "        vertical-align: top;\n",
       "    }\n",
       "\n",
       "    .dataframe thead th {\n",
       "        text-align: right;\n",
       "    }\n",
       "</style>\n",
       "<table border=\"1\" class=\"dataframe\">\n",
       "  <thead>\n",
       "    <tr style=\"text-align: right;\">\n",
       "      <th></th>\n",
       "      <th>o_fgm</th>\n",
       "      <th>o_fga</th>\n",
       "      <th>o_ftm</th>\n",
       "      <th>o_fta</th>\n",
       "      <th>o_oreb</th>\n",
       "      <th>o_dreb</th>\n",
       "      <th>o_reb</th>\n",
       "      <th>o_asts</th>\n",
       "      <th>o_pf</th>\n",
       "      <th>o_stl</th>\n",
       "      <th>o_to</th>\n",
       "      <th>o_blk</th>\n",
       "      <th>o_3pm</th>\n",
       "      <th>o_3pa</th>\n",
       "      <th>o_pts</th>\n",
       "      <th>d_fgm</th>\n",
       "      <th>d_fga</th>\n",
       "      <th>d_ftm</th>\n",
       "      <th>d_fta</th>\n",
       "      <th>d_oreb</th>\n",
       "      <th>d_dreb</th>\n",
       "      <th>d_reb</th>\n",
       "      <th>d_asts</th>\n",
       "      <th>d_pf</th>\n",
       "      <th>d_stl</th>\n",
       "      <th>d_to</th>\n",
       "      <th>d_blk</th>\n",
       "      <th>d_3pm</th>\n",
       "      <th>d_3pa</th>\n",
       "      <th>d_pts</th>\n",
       "    </tr>\n",
       "  </thead>\n",
       "  <tbody>\n",
       "    <tr>\n",
       "      <th>761</th>\n",
       "      <td>3349</td>\n",
       "      <td>7223</td>\n",
       "      <td>2034</td>\n",
       "      <td>2544</td>\n",
       "      <td>1235</td>\n",
       "      <td>2420</td>\n",
       "      <td>3655</td>\n",
       "      <td>1864</td>\n",
       "      <td>1768</td>\n",
       "      <td>729</td>\n",
       "      <td>1231</td>\n",
       "      <td>374</td>\n",
       "      <td>271</td>\n",
       "      <td>0</td>\n",
       "      <td>9003</td>\n",
       "      <td>3568</td>\n",
       "      <td>7219</td>\n",
       "      <td>1587</td>\n",
       "      <td>2069</td>\n",
       "      <td>1080</td>\n",
       "      <td>2499</td>\n",
       "      <td>3579</td>\n",
       "      <td>2320</td>\n",
       "      <td>2034</td>\n",
       "      <td>688</td>\n",
       "      <td>1291</td>\n",
       "      <td>361</td>\n",
       "      <td>217</td>\n",
       "      <td>0</td>\n",
       "      <td>8940</td>\n",
       "    </tr>\n",
       "    <tr>\n",
       "      <th>762</th>\n",
       "      <td>3695</td>\n",
       "      <td>7214</td>\n",
       "      <td>1646</td>\n",
       "      <td>1997</td>\n",
       "      <td>1088</td>\n",
       "      <td>2697</td>\n",
       "      <td>3785</td>\n",
       "      <td>2160</td>\n",
       "      <td>1695</td>\n",
       "      <td>672</td>\n",
       "      <td>1320</td>\n",
       "      <td>565</td>\n",
       "      <td>109</td>\n",
       "      <td>0</td>\n",
       "      <td>9145</td>\n",
       "      <td>3419</td>\n",
       "      <td>7559</td>\n",
       "      <td>1639</td>\n",
       "      <td>2084</td>\n",
       "      <td>1192</td>\n",
       "      <td>2204</td>\n",
       "      <td>3396</td>\n",
       "      <td>2052</td>\n",
       "      <td>1660</td>\n",
       "      <td>738</td>\n",
       "      <td>1127</td>\n",
       "      <td>381</td>\n",
       "      <td>191</td>\n",
       "      <td>0</td>\n",
       "      <td>8668</td>\n",
       "    </tr>\n",
       "    <tr>\n",
       "      <th>763</th>\n",
       "      <td>3286</td>\n",
       "      <td>7033</td>\n",
       "      <td>1725</td>\n",
       "      <td>2214</td>\n",
       "      <td>1027</td>\n",
       "      <td>2200</td>\n",
       "      <td>3227</td>\n",
       "      <td>2019</td>\n",
       "      <td>1946</td>\n",
       "      <td>759</td>\n",
       "      <td>1290</td>\n",
       "      <td>304</td>\n",
       "      <td>131</td>\n",
       "      <td>0</td>\n",
       "      <td>8428</td>\n",
       "      <td>3408</td>\n",
       "      <td>6915</td>\n",
       "      <td>1884</td>\n",
       "      <td>2441</td>\n",
       "      <td>1151</td>\n",
       "      <td>2504</td>\n",
       "      <td>3665</td>\n",
       "      <td>2144</td>\n",
       "      <td>1841</td>\n",
       "      <td>675</td>\n",
       "      <td>1406</td>\n",
       "      <td>480</td>\n",
       "      <td>158</td>\n",
       "      <td>0</td>\n",
       "      <td>8858</td>\n",
       "    </tr>\n",
       "    <tr>\n",
       "      <th>764</th>\n",
       "      <td>3632</td>\n",
       "      <td>7125</td>\n",
       "      <td>1605</td>\n",
       "      <td>2111</td>\n",
       "      <td>1148</td>\n",
       "      <td>2342</td>\n",
       "      <td>3490</td>\n",
       "      <td>2212</td>\n",
       "      <td>1751</td>\n",
       "      <td>822</td>\n",
       "      <td>1184</td>\n",
       "      <td>438</td>\n",
       "      <td>155</td>\n",
       "      <td>0</td>\n",
       "      <td>9024</td>\n",
       "      <td>3267</td>\n",
       "      <td>6884</td>\n",
       "      <td>1554</td>\n",
       "      <td>2017</td>\n",
       "      <td>1062</td>\n",
       "      <td>2162</td>\n",
       "      <td>3224</td>\n",
       "      <td>2016</td>\n",
       "      <td>1826</td>\n",
       "      <td>633</td>\n",
       "      <td>1402</td>\n",
       "      <td>348</td>\n",
       "      <td>190</td>\n",
       "      <td>0</td>\n",
       "      <td>8278</td>\n",
       "    </tr>\n",
       "    <tr>\n",
       "      <th>765</th>\n",
       "      <td>3259</td>\n",
       "      <td>6857</td>\n",
       "      <td>1665</td>\n",
       "      <td>2176</td>\n",
       "      <td>1011</td>\n",
       "      <td>2329</td>\n",
       "      <td>3340</td>\n",
       "      <td>2240</td>\n",
       "      <td>1672</td>\n",
       "      <td>643</td>\n",
       "      <td>1281</td>\n",
       "      <td>450</td>\n",
       "      <td>160</td>\n",
       "      <td>0</td>\n",
       "      <td>8343</td>\n",
       "      <td>3459</td>\n",
       "      <td>7117</td>\n",
       "      <td>1464</td>\n",
       "      <td>1916</td>\n",
       "      <td>1097</td>\n",
       "      <td>2398</td>\n",
       "      <td>3495</td>\n",
       "      <td>2150</td>\n",
       "      <td>1895</td>\n",
       "      <td>710</td>\n",
       "      <td>1226</td>\n",
       "      <td>394</td>\n",
       "      <td>163</td>\n",
       "      <td>0</td>\n",
       "      <td>8545</td>\n",
       "    </tr>\n",
       "  </tbody>\n",
       "</table>\n",
       "</div>"
      ],
      "text/plain": [
       "     o_fgm  o_fga  o_ftm  o_fta  o_oreb  ...  d_to  d_blk  d_3pm  d_3pa  d_pts\n",
       "761   3349   7223   2034   2544    1235  ...  1291    361    217      0   8940\n",
       "762   3695   7214   1646   1997    1088  ...  1127    381    191      0   8668\n",
       "763   3286   7033   1725   2214    1027  ...  1406    480    158      0   8858\n",
       "764   3632   7125   1605   2111    1148  ...  1402    348    190      0   8278\n",
       "765   3259   6857   1665   2176    1011  ...  1226    394    163      0   8545\n",
       "\n",
       "[5 rows x 30 columns]"
      ]
     },
     "execution_count": 124,
     "metadata": {},
     "output_type": "execute_result"
    }
   ],
   "source": [
    "x.head()\n"
   ]
  },
  {
   "cell_type": "code",
   "execution_count": null,
   "metadata": {
    "colab": {
     "base_uri": "https://localhost:8080/"
    },
    "id": "sckKhTjBlZqH",
    "outputId": "29eb44d2-c97d-406b-958c-218c4890654a"
   },
   "outputs": [
    {
     "data": {
      "text/plain": [
       "761    2\n",
       "762    2\n",
       "763    1\n",
       "764    2\n",
       "765    1\n",
       "Name: teamRes, dtype: int64"
      ]
     },
     "execution_count": 16,
     "metadata": {},
     "output_type": "execute_result"
    }
   ],
   "source": [
    "y.head()"
   ]
  },
  {
   "cell_type": "markdown",
   "metadata": {
    "id": "cQ9N-O--l0g_"
   },
   "source": [
    "split data"
   ]
  },
  {
   "cell_type": "code",
   "execution_count": null,
   "metadata": {
    "id": "byWhEqtblfRO"
   },
   "outputs": [],
   "source": [
    "x_train, x_test, y_train, y_test = train_test_split(x,y, test_size=0.20)"
   ]
  },
  {
   "cell_type": "markdown",
   "metadata": {
    "id": "ryYbWE3kmXAu"
   },
   "source": [
    "Prediction models"
   ]
  },
  {
   "cell_type": "code",
   "execution_count": null,
   "metadata": {
    "colab": {
     "base_uri": "https://localhost:8080/"
    },
    "id": "3Lf3JNhnmZqM",
    "outputId": "08b270d8-f613-4833-cce2-d4664fcf6380"
   },
   "outputs": [
    {
     "name": "stdout",
     "output_type": "stream",
     "text": [
      "0.7875\n"
     ]
    }
   ],
   "source": [
    "# knn\n",
    "\n",
    "knn = KNeighborsClassifier(n_neighbors=5)\n",
    "knn.fit(x_train, y_train)\n",
    "pred = knn.predict(x_test)\n",
    "print(metrics.accuracy_score(y_test, pred))\n",
    "#print(knn.predict_proba(x_test))"
   ]
  },
  {
   "cell_type": "code",
   "execution_count": null,
   "metadata": {
    "colab": {
     "base_uri": "https://localhost:8080/"
    },
    "id": "vsz738W7wbHw",
    "outputId": "fea071a9-d4dd-44e7-cd39-bba2bf8ee562"
   },
   "outputs": [
    {
     "name": "stdout",
     "output_type": "stream",
     "text": [
      "0.85\n"
     ]
    },
    {
     "name": "stderr",
     "output_type": "stream",
     "text": [
      "/usr/local/lib/python3.7/dist-packages/sklearn/svm/_base.py:947: ConvergenceWarning: Liblinear failed to converge, increase the number of iterations.\n",
      "  \"the number of iterations.\", ConvergenceWarning)\n"
     ]
    }
   ],
   "source": [
    "# linear svm\n",
    "\n",
    "clf = LinearSVC(random_state=2)\n",
    "clf.fit(x_train, y_train)\n",
    "pred = (clf.predict(x_test))\n",
    "print(metrics.accuracy_score(y_test, pred))"
   ]
  },
  {
   "cell_type": "code",
   "execution_count": null,
   "metadata": {
    "colab": {
     "base_uri": "https://localhost:8080/"
    },
    "id": "Lg6HbJCKyd6Z",
    "outputId": "05daeab9-3af6-4466-88b8-f8ea5310a155"
   },
   "outputs": [
    {
     "name": "stdout",
     "output_type": "stream",
     "text": [
      "0.825\n"
     ]
    }
   ],
   "source": [
    "# random forest classifier\n",
    "\n",
    "cls_forest = RandomForestClassifier()\n",
    "cls_forest.fit(x_train, y_train)\n",
    "pred = cls_forest.predict(x_test)\n",
    "print(metrics.accuracy_score(y_test, pred))"
   ]
  },
  {
   "cell_type": "code",
   "execution_count": null,
   "metadata": {
    "colab": {
     "base_uri": "https://localhost:8080/"
    },
    "id": "YXqyZ2Qkzw9s",
    "outputId": "071ba798-53dd-4579-dc8d-353783db2e05"
   },
   "outputs": [
    {
     "data": {
      "text/plain": [
       "0.8"
      ]
     },
     "execution_count": 147,
     "metadata": {},
     "output_type": "execute_result"
    }
   ],
   "source": [
    "# Gradient Tree Boosting\n",
    "\n",
    "clfgtb = GradientBoostingClassifier(n_estimators=100, learning_rate=1.0, max_depth=1, random_state=0)\n",
    "clfgtb.fit(x_train, y_train)\n",
    "clfgtb.score(x_test, y_test)"
   ]
  },
  {
   "cell_type": "markdown",
   "metadata": {
    "id": "eVoBFKmT1Lcj"
   },
   "source": [
    "Apply models to the 2004 - 2005 season"
   ]
  },
  {
   "cell_type": "code",
   "execution_count": null,
   "metadata": {
    "colab": {
     "base_uri": "https://localhost:8080/"
    },
    "id": "b5q1aSzu1TOR",
    "outputId": "98a000ea-4564-4fba-c71d-508bcfc80ee2"
   },
   "outputs": [
    {
     "name": "stderr",
     "output_type": "stream",
     "text": [
      "/usr/local/lib/python3.7/dist-packages/ipykernel_launcher.py:4: SettingWithCopyWarning: \n",
      "A value is trying to be set on a copy of a slice from a DataFrame.\n",
      "Try using .loc[row_indexer,col_indexer] = value instead\n",
      "\n",
      "See the caveats in the documentation: https://pandas.pydata.org/pandas-docs/stable/user_guide/indexing.html#returning-a-view-versus-a-copy\n",
      "  after removing the cwd from sys.path.\n"
     ]
    }
   ],
   "source": [
    "# prepare the data before feeding it to the models\n",
    "\n",
    "df_currSeason = df_t[(df_t.year > 2003)]\n",
    "df_currSeason['teamRes'] = df_currSeason.apply(compare, axis=1)\n"
   ]
  },
  {
   "cell_type": "code",
   "execution_count": null,
   "metadata": {
    "id": "ReMg3bun2rt0"
   },
   "outputs": [],
   "source": [
    "x_new = df_currSeason[feature_cols]\n",
    "\n",
    "y_new = df_currSeason['teamRes']"
   ]
  },
  {
   "cell_type": "code",
   "execution_count": null,
   "metadata": {
    "colab": {
     "base_uri": "https://localhost:8080/"
    },
    "id": "jeZhRCb43Gnm",
    "outputId": "d45dba40-d718-4618-eb32-a19aa5c7150a"
   },
   "outputs": [
    {
     "name": "stdout",
     "output_type": "stream",
     "text": [
      "0.7333333333333333\n"
     ]
    }
   ],
   "source": [
    "# Apply knn in the 2004 - 2005 dataset\n",
    "new_pred = knn.predict(x_new)\n",
    "print(metrics.accuracy_score(y_new, new_pred))"
   ]
  },
  {
   "cell_type": "code",
   "execution_count": null,
   "metadata": {
    "colab": {
     "base_uri": "https://localhost:8080/"
    },
    "id": "szzw_CST3ppu",
    "outputId": "98e49301-a368-48a0-85ba-ae9c61681507"
   },
   "outputs": [
    {
     "name": "stdout",
     "output_type": "stream",
     "text": [
      "0.8666666666666667\n"
     ]
    }
   ],
   "source": [
    "# apply linear svm in the 2004 - 2005\n",
    "\n",
    "new_pred = (clf.predict(x_new))\n",
    "print(metrics.accuracy_score(y_new, new_pred))"
   ]
  },
  {
   "cell_type": "code",
   "execution_count": null,
   "metadata": {
    "colab": {
     "base_uri": "https://localhost:8080/"
    },
    "id": "8BV6KSor4ALl",
    "outputId": "5d7c7ebb-ecb7-4346-fe4d-dcd9116afc9a"
   },
   "outputs": [
    {
     "name": "stdout",
     "output_type": "stream",
     "text": [
      "0.7666666666666667\n"
     ]
    }
   ],
   "source": [
    "# apply random forest classifier in the 2004 - 2005\n",
    "\n",
    "new_pred = cls_forest.predict(x_new)\n",
    "print(metrics.accuracy_score(y_new, new_pred))"
   ]
  },
  {
   "cell_type": "code",
   "execution_count": null,
   "metadata": {
    "colab": {
     "base_uri": "https://localhost:8080/"
    },
    "id": "QokkYe2_4XVu",
    "outputId": "2fac5119-e873-4dd2-e0fb-d9f324aa8ccc"
   },
   "outputs": [
    {
     "data": {
      "text/plain": [
       "0.8"
      ]
     },
     "execution_count": 152,
     "metadata": {},
     "output_type": "execute_result"
    }
   ],
   "source": [
    "# apply Gradient Tree Boosting\n",
    "clfgtb.score(x_new, y_new)"
   ]
  },
  {
   "cell_type": "code",
   "execution_count": null,
   "metadata": {
    "colab": {
     "base_uri": "https://localhost:8080/",
     "height": 222
    },
    "id": "Cdg7s4M5CHDb",
    "outputId": "7fa39508-66b3-4868-d71a-39a0ec1b3fa3"
   },
   "outputs": [
    {
     "data": {
      "text/html": [
       "<div>\n",
       "<style scoped>\n",
       "    .dataframe tbody tr th:only-of-type {\n",
       "        vertical-align: middle;\n",
       "    }\n",
       "\n",
       "    .dataframe tbody tr th {\n",
       "        vertical-align: top;\n",
       "    }\n",
       "\n",
       "    .dataframe thead th {\n",
       "        text-align: right;\n",
       "    }\n",
       "</style>\n",
       "<table border=\"1\" class=\"dataframe\">\n",
       "  <thead>\n",
       "    <tr style=\"text-align: right;\">\n",
       "      <th></th>\n",
       "      <th>team</th>\n",
       "      <th>year</th>\n",
       "      <th>leag</th>\n",
       "      <th>o_fgm</th>\n",
       "      <th>o_fga</th>\n",
       "      <th>o_ftm</th>\n",
       "      <th>o_fta</th>\n",
       "      <th>o_oreb</th>\n",
       "      <th>o_dreb</th>\n",
       "      <th>o_reb</th>\n",
       "      <th>o_asts</th>\n",
       "      <th>o_pf</th>\n",
       "      <th>o_stl</th>\n",
       "      <th>o_to</th>\n",
       "      <th>o_blk</th>\n",
       "      <th>o_3pm</th>\n",
       "      <th>o_3pa</th>\n",
       "      <th>o_pts</th>\n",
       "      <th>d_fgm</th>\n",
       "      <th>d_fga</th>\n",
       "      <th>d_ftm</th>\n",
       "      <th>d_fta</th>\n",
       "      <th>d_oreb</th>\n",
       "      <th>d_dreb</th>\n",
       "      <th>d_reb</th>\n",
       "      <th>d_asts</th>\n",
       "      <th>d_pf</th>\n",
       "      <th>d_stl</th>\n",
       "      <th>d_to</th>\n",
       "      <th>d_blk</th>\n",
       "      <th>d_3pm</th>\n",
       "      <th>d_3pa</th>\n",
       "      <th>d_pts</th>\n",
       "      <th>pace</th>\n",
       "      <th>won</th>\n",
       "      <th>lost</th>\n",
       "    </tr>\n",
       "  </thead>\n",
       "  <tbody>\n",
       "    <tr>\n",
       "      <th>1157</th>\n",
       "      <td>ATL</td>\n",
       "      <td>2004</td>\n",
       "      <td>N</td>\n",
       "      <td>2942</td>\n",
       "      <td>6672</td>\n",
       "      <td>1417</td>\n",
       "      <td>1994</td>\n",
       "      <td>1100</td>\n",
       "      <td>2335</td>\n",
       "      <td>3435</td>\n",
       "      <td>1614</td>\n",
       "      <td>2009</td>\n",
       "      <td>629</td>\n",
       "      <td>1319</td>\n",
       "      <td>344</td>\n",
       "      <td>304</td>\n",
       "      <td>973</td>\n",
       "      <td>7605</td>\n",
       "      <td>3044</td>\n",
       "      <td>6389</td>\n",
       "      <td>1846</td>\n",
       "      <td>2396</td>\n",
       "      <td>902</td>\n",
       "      <td>2483</td>\n",
       "      <td>3385</td>\n",
       "      <td>1803</td>\n",
       "      <td>1777</td>\n",
       "      <td>716</td>\n",
       "      <td>1235</td>\n",
       "      <td>484</td>\n",
       "      <td>467</td>\n",
       "      <td>1232</td>\n",
       "      <td>8401</td>\n",
       "      <td>93.948730</td>\n",
       "      <td>13</td>\n",
       "      <td>69</td>\n",
       "    </tr>\n",
       "    <tr>\n",
       "      <th>1158</th>\n",
       "      <td>BOS</td>\n",
       "      <td>2004</td>\n",
       "      <td>N</td>\n",
       "      <td>3046</td>\n",
       "      <td>6511</td>\n",
       "      <td>1775</td>\n",
       "      <td>2323</td>\n",
       "      <td>909</td>\n",
       "      <td>2438</td>\n",
       "      <td>3347</td>\n",
       "      <td>1810</td>\n",
       "      <td>2000</td>\n",
       "      <td>667</td>\n",
       "      <td>1297</td>\n",
       "      <td>423</td>\n",
       "      <td>437</td>\n",
       "      <td>1252</td>\n",
       "      <td>8304</td>\n",
       "      <td>2960</td>\n",
       "      <td>6664</td>\n",
       "      <td>1825</td>\n",
       "      <td>2423</td>\n",
       "      <td>1039</td>\n",
       "      <td>2427</td>\n",
       "      <td>3466</td>\n",
       "      <td>1859</td>\n",
       "      <td>1937</td>\n",
       "      <td>714</td>\n",
       "      <td>1248</td>\n",
       "      <td>402</td>\n",
       "      <td>488</td>\n",
       "      <td>1370</td>\n",
       "      <td>8233</td>\n",
       "      <td>95.735855</td>\n",
       "      <td>45</td>\n",
       "      <td>37</td>\n",
       "    </tr>\n",
       "    <tr>\n",
       "      <th>1159</th>\n",
       "      <td>CHI</td>\n",
       "      <td>2004</td>\n",
       "      <td>N</td>\n",
       "      <td>2849</td>\n",
       "      <td>6592</td>\n",
       "      <td>1536</td>\n",
       "      <td>2048</td>\n",
       "      <td>1001</td>\n",
       "      <td>2591</td>\n",
       "      <td>3592</td>\n",
       "      <td>1743</td>\n",
       "      <td>2028</td>\n",
       "      <td>576</td>\n",
       "      <td>1371</td>\n",
       "      <td>369</td>\n",
       "      <td>511</td>\n",
       "      <td>1433</td>\n",
       "      <td>7745</td>\n",
       "      <td>2763</td>\n",
       "      <td>6548</td>\n",
       "      <td>1716</td>\n",
       "      <td>2305</td>\n",
       "      <td>979</td>\n",
       "      <td>2524</td>\n",
       "      <td>3503</td>\n",
       "      <td>1715</td>\n",
       "      <td>1914</td>\n",
       "      <td>685</td>\n",
       "      <td>1272</td>\n",
       "      <td>434</td>\n",
       "      <td>416</td>\n",
       "      <td>1245</td>\n",
       "      <td>7658</td>\n",
       "      <td>96.283737</td>\n",
       "      <td>47</td>\n",
       "      <td>35</td>\n",
       "    </tr>\n",
       "    <tr>\n",
       "      <th>1160</th>\n",
       "      <td>CHR</td>\n",
       "      <td>2004</td>\n",
       "      <td>N</td>\n",
       "      <td>2961</td>\n",
       "      <td>6859</td>\n",
       "      <td>1487</td>\n",
       "      <td>2096</td>\n",
       "      <td>1083</td>\n",
       "      <td>2335</td>\n",
       "      <td>3418</td>\n",
       "      <td>1794</td>\n",
       "      <td>1893</td>\n",
       "      <td>695</td>\n",
       "      <td>1192</td>\n",
       "      <td>440</td>\n",
       "      <td>320</td>\n",
       "      <td>881</td>\n",
       "      <td>7729</td>\n",
       "      <td>3015</td>\n",
       "      <td>6507</td>\n",
       "      <td>1748</td>\n",
       "      <td>2279</td>\n",
       "      <td>959</td>\n",
       "      <td>2586</td>\n",
       "      <td>3545</td>\n",
       "      <td>1768</td>\n",
       "      <td>1857</td>\n",
       "      <td>624</td>\n",
       "      <td>1304</td>\n",
       "      <td>446</td>\n",
       "      <td>442</td>\n",
       "      <td>1224</td>\n",
       "      <td>8220</td>\n",
       "      <td>96.201630</td>\n",
       "      <td>18</td>\n",
       "      <td>64</td>\n",
       "    </tr>\n",
       "    <tr>\n",
       "      <th>1161</th>\n",
       "      <td>CLE</td>\n",
       "      <td>2004</td>\n",
       "      <td>N</td>\n",
       "      <td>2990</td>\n",
       "      <td>6687</td>\n",
       "      <td>1634</td>\n",
       "      <td>2174</td>\n",
       "      <td>1117</td>\n",
       "      <td>2352</td>\n",
       "      <td>3469</td>\n",
       "      <td>1851</td>\n",
       "      <td>1850</td>\n",
       "      <td>654</td>\n",
       "      <td>1141</td>\n",
       "      <td>461</td>\n",
       "      <td>300</td>\n",
       "      <td>904</td>\n",
       "      <td>7914</td>\n",
       "      <td>2913</td>\n",
       "      <td>6444</td>\n",
       "      <td>1601</td>\n",
       "      <td>2135</td>\n",
       "      <td>938</td>\n",
       "      <td>2324</td>\n",
       "      <td>3262</td>\n",
       "      <td>1737</td>\n",
       "      <td>1770</td>\n",
       "      <td>549</td>\n",
       "      <td>1226</td>\n",
       "      <td>419</td>\n",
       "      <td>422</td>\n",
       "      <td>1122</td>\n",
       "      <td>7849</td>\n",
       "      <td>93.840187</td>\n",
       "      <td>42</td>\n",
       "      <td>40</td>\n",
       "    </tr>\n",
       "  </tbody>\n",
       "</table>\n",
       "</div>"
      ],
      "text/plain": [
       "     team  year leag  o_fgm  o_fga  ...  d_3pa  d_pts       pace  won  lost\n",
       "1157  ATL  2004    N   2942   6672  ...   1232   8401  93.948730   13    69\n",
       "1158  BOS  2004    N   3046   6511  ...   1370   8233  95.735855   45    37\n",
       "1159  CHI  2004    N   2849   6592  ...   1245   7658  96.283737   47    35\n",
       "1160  CHR  2004    N   2961   6859  ...   1224   8220  96.201630   18    64\n",
       "1161  CLE  2004    N   2990   6687  ...   1122   7849  93.840187   42    40\n",
       "\n",
       "[5 rows x 36 columns]"
      ]
     },
     "execution_count": 136,
     "metadata": {},
     "output_type": "execute_result"
    }
   ],
   "source": [
    "df_season2004.head()"
   ]
  },
  {
   "cell_type": "code",
   "execution_count": null,
   "metadata": {
    "colab": {
     "base_uri": "https://localhost:8080/",
     "height": 222
    },
    "id": "S6j1bpqXCw6i",
    "outputId": "4d98d016-5fb1-41db-9942-5846946b0791"
   },
   "outputs": [
    {
     "data": {
      "text/html": [
       "<div>\n",
       "<style scoped>\n",
       "    .dataframe tbody tr th:only-of-type {\n",
       "        vertical-align: middle;\n",
       "    }\n",
       "\n",
       "    .dataframe tbody tr th {\n",
       "        vertical-align: top;\n",
       "    }\n",
       "\n",
       "    .dataframe thead th {\n",
       "        text-align: right;\n",
       "    }\n",
       "</style>\n",
       "<table border=\"1\" class=\"dataframe\">\n",
       "  <thead>\n",
       "    <tr style=\"text-align: right;\">\n",
       "      <th></th>\n",
       "      <th>o_fgm</th>\n",
       "      <th>o_fga</th>\n",
       "      <th>o_ftm</th>\n",
       "      <th>o_fta</th>\n",
       "      <th>o_oreb</th>\n",
       "      <th>o_dreb</th>\n",
       "      <th>o_dreb</th>\n",
       "      <th>o_reb</th>\n",
       "      <th>o_asts</th>\n",
       "      <th>o_pf</th>\n",
       "      <th>o_stl</th>\n",
       "      <th>o_to</th>\n",
       "      <th>o_blk</th>\n",
       "      <th>o_3pm</th>\n",
       "      <th>o_3pa</th>\n",
       "      <th>o_pts</th>\n",
       "      <th>d_fgm</th>\n",
       "      <th>d_fga</th>\n",
       "      <th>d_ftm</th>\n",
       "      <th>d_fta</th>\n",
       "      <th>d_oreb</th>\n",
       "      <th>d_dreb</th>\n",
       "      <th>d_reb</th>\n",
       "      <th>d_asts</th>\n",
       "      <th>d_pf</th>\n",
       "      <th>d_stl</th>\n",
       "      <th>d_to</th>\n",
       "      <th>d_blk</th>\n",
       "      <th>d_3pm</th>\n",
       "      <th>d_3pa</th>\n",
       "      <th>d_pts</th>\n",
       "    </tr>\n",
       "  </thead>\n",
       "  <tbody>\n",
       "    <tr>\n",
       "      <th>1157</th>\n",
       "      <td>2942</td>\n",
       "      <td>6672</td>\n",
       "      <td>1417</td>\n",
       "      <td>1994</td>\n",
       "      <td>1100</td>\n",
       "      <td>2335</td>\n",
       "      <td>2335</td>\n",
       "      <td>3435</td>\n",
       "      <td>1614</td>\n",
       "      <td>2009</td>\n",
       "      <td>629</td>\n",
       "      <td>1319</td>\n",
       "      <td>344</td>\n",
       "      <td>304</td>\n",
       "      <td>973</td>\n",
       "      <td>7605</td>\n",
       "      <td>3044</td>\n",
       "      <td>6389</td>\n",
       "      <td>1846</td>\n",
       "      <td>2396</td>\n",
       "      <td>902</td>\n",
       "      <td>2483</td>\n",
       "      <td>3385</td>\n",
       "      <td>1803</td>\n",
       "      <td>1777</td>\n",
       "      <td>716</td>\n",
       "      <td>1235</td>\n",
       "      <td>484</td>\n",
       "      <td>467</td>\n",
       "      <td>1232</td>\n",
       "      <td>8401</td>\n",
       "    </tr>\n",
       "    <tr>\n",
       "      <th>1158</th>\n",
       "      <td>3046</td>\n",
       "      <td>6511</td>\n",
       "      <td>1775</td>\n",
       "      <td>2323</td>\n",
       "      <td>909</td>\n",
       "      <td>2438</td>\n",
       "      <td>2438</td>\n",
       "      <td>3347</td>\n",
       "      <td>1810</td>\n",
       "      <td>2000</td>\n",
       "      <td>667</td>\n",
       "      <td>1297</td>\n",
       "      <td>423</td>\n",
       "      <td>437</td>\n",
       "      <td>1252</td>\n",
       "      <td>8304</td>\n",
       "      <td>2960</td>\n",
       "      <td>6664</td>\n",
       "      <td>1825</td>\n",
       "      <td>2423</td>\n",
       "      <td>1039</td>\n",
       "      <td>2427</td>\n",
       "      <td>3466</td>\n",
       "      <td>1859</td>\n",
       "      <td>1937</td>\n",
       "      <td>714</td>\n",
       "      <td>1248</td>\n",
       "      <td>402</td>\n",
       "      <td>488</td>\n",
       "      <td>1370</td>\n",
       "      <td>8233</td>\n",
       "    </tr>\n",
       "    <tr>\n",
       "      <th>1159</th>\n",
       "      <td>2849</td>\n",
       "      <td>6592</td>\n",
       "      <td>1536</td>\n",
       "      <td>2048</td>\n",
       "      <td>1001</td>\n",
       "      <td>2591</td>\n",
       "      <td>2591</td>\n",
       "      <td>3592</td>\n",
       "      <td>1743</td>\n",
       "      <td>2028</td>\n",
       "      <td>576</td>\n",
       "      <td>1371</td>\n",
       "      <td>369</td>\n",
       "      <td>511</td>\n",
       "      <td>1433</td>\n",
       "      <td>7745</td>\n",
       "      <td>2763</td>\n",
       "      <td>6548</td>\n",
       "      <td>1716</td>\n",
       "      <td>2305</td>\n",
       "      <td>979</td>\n",
       "      <td>2524</td>\n",
       "      <td>3503</td>\n",
       "      <td>1715</td>\n",
       "      <td>1914</td>\n",
       "      <td>685</td>\n",
       "      <td>1272</td>\n",
       "      <td>434</td>\n",
       "      <td>416</td>\n",
       "      <td>1245</td>\n",
       "      <td>7658</td>\n",
       "    </tr>\n",
       "    <tr>\n",
       "      <th>1160</th>\n",
       "      <td>2961</td>\n",
       "      <td>6859</td>\n",
       "      <td>1487</td>\n",
       "      <td>2096</td>\n",
       "      <td>1083</td>\n",
       "      <td>2335</td>\n",
       "      <td>2335</td>\n",
       "      <td>3418</td>\n",
       "      <td>1794</td>\n",
       "      <td>1893</td>\n",
       "      <td>695</td>\n",
       "      <td>1192</td>\n",
       "      <td>440</td>\n",
       "      <td>320</td>\n",
       "      <td>881</td>\n",
       "      <td>7729</td>\n",
       "      <td>3015</td>\n",
       "      <td>6507</td>\n",
       "      <td>1748</td>\n",
       "      <td>2279</td>\n",
       "      <td>959</td>\n",
       "      <td>2586</td>\n",
       "      <td>3545</td>\n",
       "      <td>1768</td>\n",
       "      <td>1857</td>\n",
       "      <td>624</td>\n",
       "      <td>1304</td>\n",
       "      <td>446</td>\n",
       "      <td>442</td>\n",
       "      <td>1224</td>\n",
       "      <td>8220</td>\n",
       "    </tr>\n",
       "    <tr>\n",
       "      <th>1161</th>\n",
       "      <td>2990</td>\n",
       "      <td>6687</td>\n",
       "      <td>1634</td>\n",
       "      <td>2174</td>\n",
       "      <td>1117</td>\n",
       "      <td>2352</td>\n",
       "      <td>2352</td>\n",
       "      <td>3469</td>\n",
       "      <td>1851</td>\n",
       "      <td>1850</td>\n",
       "      <td>654</td>\n",
       "      <td>1141</td>\n",
       "      <td>461</td>\n",
       "      <td>300</td>\n",
       "      <td>904</td>\n",
       "      <td>7914</td>\n",
       "      <td>2913</td>\n",
       "      <td>6444</td>\n",
       "      <td>1601</td>\n",
       "      <td>2135</td>\n",
       "      <td>938</td>\n",
       "      <td>2324</td>\n",
       "      <td>3262</td>\n",
       "      <td>1737</td>\n",
       "      <td>1770</td>\n",
       "      <td>549</td>\n",
       "      <td>1226</td>\n",
       "      <td>419</td>\n",
       "      <td>422</td>\n",
       "      <td>1122</td>\n",
       "      <td>7849</td>\n",
       "    </tr>\n",
       "  </tbody>\n",
       "</table>\n",
       "</div>"
      ],
      "text/plain": [
       "      o_fgm  o_fga  o_ftm  o_fta  o_oreb  ...  d_to  d_blk  d_3pm  d_3pa  d_pts\n",
       "1157   2942   6672   1417   1994    1100  ...  1235    484    467   1232   8401\n",
       "1158   3046   6511   1775   2323     909  ...  1248    402    488   1370   8233\n",
       "1159   2849   6592   1536   2048    1001  ...  1272    434    416   1245   7658\n",
       "1160   2961   6859   1487   2096    1083  ...  1304    446    442   1224   8220\n",
       "1161   2990   6687   1634   2174    1117  ...  1226    419    422   1122   7849\n",
       "\n",
       "[5 rows x 31 columns]"
      ]
     },
     "execution_count": 59,
     "metadata": {},
     "output_type": "execute_result"
    }
   ],
   "source": [
    "x_new.head()"
   ]
  },
  {
   "cell_type": "markdown",
   "metadata": {
    "id": "pI7px4Gg9w-b"
   },
   "source": [
    "Predict games "
   ]
  },
  {
   "cell_type": "code",
   "execution_count": null,
   "metadata": {
    "id": "6B5iBUP2929O"
   },
   "outputs": [],
   "source": [
    "#print(teams)\n",
    "# Teams in the 2004 - 2005 season\n",
    "# ATL  BOS CHI CHR CLE DAL DEN DET GSW NOH\n",
    "# HOU IND LAC LAL MEM MIA MIL MIN NJN NYK ORL\n",
    "# PHI PHO POR SAC SAS SEA TOR UTA WAS\n",
    "\n",
    "allTeams = ['ATL', 'BOS', 'CHI', 'CHR', 'CLE', 'DA', 'DEN', 'DET', 'GSW',\n",
    "            'NOH', 'HOU', 'IND', 'LAC', 'LAL', 'MEM', 'MIA', 'MIL', 'MIN',\n",
    "            'NJN', 'NYK', 'ORL', 'PHI', 'PHO', 'POR', 'SAC', 'SAS', 'SEA', \n",
    "            'TOR', 'UTA', 'WAS']\n",
    "            \n",
    "# get the data for each team\n",
    "teamsList = []\n",
    "fromDF = []\n",
    "\n",
    "\n",
    "# we want the data for the opposition team first\n",
    "for index, row in x_new.iterrows():\n",
    "    fromDF.append(row)\n",
    "\n",
    "for i in range(len(fromDF)):\n",
    "    team = []\n",
    "    for j in range(15, 30):\n",
    "        team.append(fromDF[i][j])\n",
    "\n",
    "    teamsList.append(team)\n",
    "\n"
   ]
  },
  {
   "cell_type": "code",
   "execution_count": null,
   "metadata": {
    "colab": {
     "base_uri": "https://localhost:8080/"
    },
    "id": "Z9dEyncnWu5n",
    "outputId": "2ebd19aa-9b93-402c-cd38-b2384a75f0a1"
   },
   "outputs": [
    {
     "name": "stdout",
     "output_type": "stream",
     "text": [
      "[2731, 5965, 2027, 2653, 859, 2230, 3089, 1592, 2057, 646, 1213, 474, 486, 1297, 7975]\n"
     ]
    }
   ],
   "source": [
    "print(teamsList[28])"
   ]
  },
  {
   "cell_type": "code",
   "execution_count": null,
   "metadata": {
    "id": "WhiUL3ZQ73dS"
   },
   "outputs": [],
   "source": [
    "# predict the games between two teams\n",
    "\n",
    "#games\n",
    "games = ['PHX1 vs SAS2',\n",
    "         'DET1 vs PHI2', \n",
    "         'MIN1 vs BOS2',\n",
    "         'NY1 vs MIA2', \n",
    "         'TOR1 vs MIL2', \n",
    "         'CHI1 vs DAL2', \n",
    "         'UTA1 vs DEN2', \n",
    "         'WSH1 vs MEM2', \n",
    "         'ATL1 vs POR2', \n",
    "         'CHA1 vs LAL2']\n",
    "\n",
    "game1 = []   # contains the home team vs away team"
   ]
  },
  {
   "cell_type": "code",
   "execution_count": null,
   "metadata": {
    "id": "unILA40wMOA5"
   },
   "outputs": [],
   "source": [
    "# I will demonstrate fpr one game, the logic for all other games is the same\n",
    "\n",
    "# PHI vs SAS\n",
    "i = allTeams.index('PHI')\n",
    "j = allTeams.index('SAS')\n",
    "\n",
    "team1 = teamsList[i]\n",
    "team2 = teamsList[j]\n",
    "teamsCombined = team1 + team2\n",
    "game1.append(teamsCombined)"
   ]
  },
  {
   "cell_type": "code",
   "execution_count": null,
   "metadata": {
    "colab": {
     "base_uri": "https://localhost:8080/"
    },
    "id": "rwSBW5hqcgOA",
    "outputId": "740c972a-2718-4829-b8d5-7a043766ad8b"
   },
   "outputs": [
    {
     "data": {
      "text/plain": [
       "30"
      ]
     },
     "execution_count": 141,
     "metadata": {},
     "output_type": "execute_result"
    }
   ],
   "source": [
    "len(x_new.columns)"
   ]
  },
  {
   "cell_type": "code",
   "execution_count": null,
   "metadata": {
    "colab": {
     "base_uri": "https://localhost:8080/"
    },
    "id": "w4rW68Auf717",
    "outputId": "2abe9fc1-b921-463d-e9b2-95a01db80547"
   },
   "outputs": [
    {
     "data": {
      "text/plain": [
       "30"
      ]
     },
     "execution_count": 159,
     "metadata": {},
     "output_type": "execute_result"
    }
   ],
   "source": [
    "len(game1[0])"
   ]
  },
  {
   "cell_type": "code",
   "execution_count": null,
   "metadata": {
    "colab": {
     "base_uri": "https://localhost:8080/"
    },
    "id": "B8MJex4Oa4hU",
    "outputId": "62c35058-1bd0-4a90-bea6-251450738946"
   },
   "outputs": [
    {
     "name": "stdout",
     "output_type": "stream",
     "text": [
      "[2]\n",
      "[[0. 0. 1.]]\n"
     ]
    }
   ],
   "source": [
    "# game PHI vs SAS prediction using knn\n",
    "# 0 - draw\n",
    "# 1 - home team losses\n",
    "# 2 - home team wins\n",
    "pred1 = knn.predict(game1)\n",
    "prob1 = knn.predict_proba(game1)\n",
    "print(pred1)\n",
    "print(prob1)"
   ]
  },
  {
   "cell_type": "code",
   "execution_count": null,
   "metadata": {
    "colab": {
     "base_uri": "https://localhost:8080/"
    },
    "id": "xhTMQuficOir",
    "outputId": "d568085d-b3dc-4652-e4b2-742e9bb270e5"
   },
   "outputs": [
    {
     "name": "stdout",
     "output_type": "stream",
     "text": [
      "[2]\n"
     ]
    }
   ],
   "source": [
    "#  game PHI vs SAS prediction using linear svm\n",
    "\n",
    "pred2 = clf.predict(game1)\n",
    "print(pred2)"
   ]
  },
  {
   "cell_type": "code",
   "execution_count": null,
   "metadata": {
    "id": "cpMmX1krkOP9"
   },
   "outputs": [],
   "source": [
    "#  game PHI vs SAS prediction using forest classifier \n",
    "\n",
    "pred3 = cls_forest.predict(game1)\n",
    "prob3 = cls_forest.predict_proba(game1)\n",
    "print(pred3)\n",
    "print(prob3)"
   ]
  },
  {
   "cell_type": "code",
   "execution_count": null,
   "metadata": {
    "colab": {
     "base_uri": "https://localhost:8080/"
    },
    "id": "-gUV_3nak1l0",
    "outputId": "e05ad76e-e903-468f-8d99-ef08723c0dda"
   },
   "outputs": [
    {
     "name": "stdout",
     "output_type": "stream",
     "text": [
      "[2]\n",
      "[[6.90224237e-07 4.49668214e-09 9.99999305e-01]]\n"
     ]
    }
   ],
   "source": [
    "# game PHI vs SAS prediction using Gradient Tree Boosting\n",
    "\n",
    "pred4 = clfgtb.predict(game1)\n",
    "prob4 = clfgtb.predict_proba(game1)\n",
    "print(pred4)\n",
    "print(prob4)"
   ]
  },
  {
   "cell_type": "code",
   "execution_count": null,
   "metadata": {
    "id": "DwgGbeidAd0-"
   },
   "outputs": [],
   "source": []
  },
  {
   "cell_type": "code",
   "execution_count": null,
   "metadata": {
    "id": "D43pjb7UAeIG"
   },
   "outputs": [],
   "source": []
  }
 ],
 "metadata": {
  "colab": {
   "collapsed_sections": [],
   "name": "comp721_project.ipynb",
   "provenance": []
  },
  "kernelspec": {
   "display_name": "Python 3 (ipykernel)",
   "language": "python",
   "name": "python3"
  },
  "language_info": {
   "codemirror_mode": {
    "name": "ipython",
    "version": 3
   },
   "file_extension": ".py",
   "mimetype": "text/x-python",
   "name": "python",
   "nbconvert_exporter": "python",
   "pygments_lexer": "ipython3",
   "version": "3.9.7"
  }
 },
 "nbformat": 4,
 "nbformat_minor": 1
}
